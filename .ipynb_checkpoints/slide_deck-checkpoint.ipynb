{
 "cells": [
  {
   "cell_type": "markdown",
   "metadata": {
    "slideshow": {
     "slide_type": "slide"
    }
   },
   "source": [
    "# (Ford GoBike System Data Exploration)\n",
    "## by (Abdullah Khalid Alsudayri)"
   ]
  },
  {
   "cell_type": "markdown",
   "metadata": {
    "slideshow": {
     "slide_type": "slide"
    }
   },
   "source": [
    "## Investigation Overview\n",
    "\n",
    "> In this investigation i wanted to look at the characteristics of users and start time(divide to hour) that could predict the duration time of riding, The main focus is on users type, member gender.\n",
    "\n",
    "## Dataset Overview\n",
    "\n",
    "> The our dataset includes information of 183412 bike riding records in February 2019, The dataset includes many variables but i focused on user type, member gender, duration and start time."
   ]
  },
  {
   "cell_type": "code",
   "execution_count": 1,
   "metadata": {
    "slideshow": {
     "slide_type": "skip"
    }
   },
   "outputs": [],
   "source": [
    "# import all packages and set plots to be embedded inline\n",
    "import numpy as np\n",
    "import pandas as pd\n",
    "import matplotlib.pyplot as plt\n",
    "import seaborn as sb\n",
    "\n",
    "%matplotlib inline\n",
    "\n",
    "# suppress warnings from final output\n",
    "import warnings\n",
    "warnings.simplefilter(\"ignore\")"
   ]
  },
  {
   "cell_type": "code",
   "execution_count": 2,
   "metadata": {
    "slideshow": {
     "slide_type": "skip"
    }
   },
   "outputs": [],
   "source": [
    "# load in the dataset into a pandas dataframe\n",
    "df = pd.read_csv('201902-fordgobike-tripdata.csv')\n",
    "\n",
    "#convert start_time to hours\n",
    "df['hour_of_day'] = pd.DatetimeIndex(df['start_time']).hour\n",
    "\n",
    "#convert duration in a seconds to duration in a minutes\n",
    "df['duration_sec'] = df['duration_sec']/60\n",
    "df.rename(columns={'duration_sec' : 'duration_min'},inplace=True)"
   ]
  },
  {
   "cell_type": "markdown",
   "metadata": {
    "slideshow": {
     "slide_type": "slide"
    }
   },
   "source": [
    "## Distribution of Member gender\n",
    "\n",
    "> Male members are the most majority of riders as they are about three times the count of female members while other gender members are very little"
   ]
  },
  {
   "cell_type": "code",
   "execution_count": 3,
   "metadata": {
    "slideshow": {
     "slide_type": "subslide"
    }
   },
   "outputs": [
    {
     "data": {
      "image/png": "[encoded data removed]",
      "text/plain": [
       "<Figure size 720x432 with 1 Axes>"
      ]
     },
     "metadata": {
      "needs_background": "light"
     },
     "output_type": "display_data"
    }
   ],
   "source": [
    "plt.figure(figsize=(10,6))\n",
    "sb.countplot(data = df , x ='member_gender', color=sb.color_palette()[0] );\n",
    "plt.title('Number of each member genders',fontsize=15);\n",
    "plt.xlabel('Member of gender',fontsize=15)\n",
    "plt.ylabel('Count',fontsize=15);"
   ]
  },
  {
   "cell_type": "markdown",
   "metadata": {
    "collapsed": true,
    "slideshow": {
     "slide_type": "slide"
    }
   },
   "source": [
    "## Duration average for \n",
    "\n",
    ">  That although subscribers more than customers, but the customers use the bike double than subscribers."
   ]
  },
  {
   "cell_type": "code",
   "execution_count": null,
   "metadata": {
    "slideshow": {
     "slide_type": "subslide"
    }
   },
   "outputs": [],
   "source": [
    "plt.figure(figsize=(10,6))\n",
    "sb.barplot(x=df['user_type'],y=df['duration_min'], color = sb.color_palette()[4])\n",
    "plt.ylabel('Duration average',fontsize=15)\n",
    "plt.xlabel('User types',fontsize=15)\n",
    "plt.title('Duration average for different genders',fontsize=15);"
   ]
  },
  {
   "cell_type": "markdown",
   "metadata": {
    "collapsed": true,
    "slideshow": {
     "slide_type": "slide"
    }
   },
   "source": [
    "## Total number of trip for each user type \n",
    "\n",
    ">  The total number of the trip is very much bigger for members for each kind of period of time."
   ]
  },
  {
   "cell_type": "code",
   "execution_count": null,
   "metadata": {
    "slideshow": {
     "slide_type": "subslide"
    }
   },
   "outputs": [],
   "source": [
    "plt.figure(figsize=(15,8))\n",
    "sb.countplot(data=df, x='hour_of_day', hue='user_type', palette='rocket' );\n",
    "plt.xlabel('Hours in the day',fontsize=15)\n",
    "plt.ylabel('Count',fontsize=15);\n",
    "plt.title('Hours in the day Distribution', fontsize=15)\n",
    "plt.legend(title=None);"
   ]
  },
  {
   "cell_type": "markdown",
   "metadata": {
    "slideshow": {
     "slide_type": "slide"
    }
   },
   "source": [
    "## Trip duration for each user type\n",
    "\n",
    ">  The customers get more long trips than subscribers during the day.\n"
   ]
  },
  {
   "cell_type": "code",
   "execution_count": null,
   "metadata": {
    "slideshow": {
     "slide_type": "subslide"
    }
   },
   "outputs": [],
   "source": [
    "plt.figure(figsize=(16,8))\n",
    "\n",
    "sb.pointplot(data = df, x = 'hour_of_day', y = 'duration_min', hue='user_type');\n",
    "plt.title('Hours in the day Distribution', fontsize=15);\n",
    "plt.xlabel('Hours in the day',fontsize=15)\n",
    "plt.ylabel('Trip Duration in a minute',fontsize=15);"
   ]
  }
 ],
 "metadata": {
  "celltoolbar": "Slideshow",
  "kernelspec": {
   "display_name": "Python 3",
   "language": "python",
   "name": "python3"
  },
  "language_info": {
   "codemirror_mode": {
    "name": "ipython",
    "version": 3
   },
   "file_extension": ".py",
   "mimetype": "text/x-python",
   "name": "python",
   "nbconvert_exporter": "python",
   "pygments_lexer": "ipython3",
   "version": "3.7.6"
  }
 },
 "nbformat": 4,
 "nbformat_minor": 2
}
